{
 "metadata": {
  "language_info": {
   "codemirror_mode": {
    "name": "ipython",
    "version": 3
   },
   "file_extension": ".py",
   "mimetype": "text/x-python",
   "name": "python",
   "nbconvert_exporter": "python",
   "pygments_lexer": "ipython3",
   "version": "3.7.3-final"
  },
  "orig_nbformat": 2,
  "kernelspec": {
   "name": "python_defaultSpec_1599817524483",
   "display_name": "Python 3.7.3 64-bit ('base': conda)"
  }
 },
 "nbformat": 4,
 "nbformat_minor": 2,
 "cells": [
  {
   "cell_type": "markdown",
   "metadata": {},
   "source": [
    "# Projet PostgreSql : Exploration d'une base de donnée "
   ]
  },
  {
   "cell_type": "markdown",
   "metadata": {},
   "source": [
    "## Installation de dvdrantal  "
   ]
  },
  {
   "source": [
    "**Étapes pour installer la base de données:**  \n",
    "* Ouvrir pgAdmin 4.  \n",
    "* Double-cliquez sur PostgreSQL 12 pour voir les bases de données qu'il contient.  \n",
    "* Clique droit sur Databases et sélectionner \"New Database…\"  \n",
    "* Nommer la et appliquer.  \n",
    "* Clique droit sur cette nouvelle base de données et selectionner \"Restore…\"  \n",
    "* Chercher le chemin d'accès de dvdrental.tar (n'oubliez pas de selectionner 'All files')  \n",
    "* Sélectionner le et restaurer le.  \n",
    "* Cliquez sur Refresh pour rafraîchir les données de la base de données\n"
   ],
   "cell_type": "markdown",
   "metadata": {}
  },
  {
   "source": [
    "## Exploration avec DISTINCT, COUNT et GROUP BY"
   ],
   "cell_type": "markdown",
   "metadata": {}
  },
  {
   "cell_type": "code",
   "execution_count": null,
   "metadata": {},
   "outputs": [],
   "source": []
  }
 ]
}