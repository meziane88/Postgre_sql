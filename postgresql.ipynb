{
 "metadata": {
  "language_info": {
   "codemirror_mode": {
    "name": "ipython",
    "version": 3
   },
   "file_extension": ".py",
   "mimetype": "text/x-python",
   "name": "python",
   "nbconvert_exporter": "python",
   "pygments_lexer": "ipython3",
   "version": "3.7.3-final"
  },
  "orig_nbformat": 2,
  "kernelspec": {
   "name": "python_defaultSpec_1599812905506",
   "display_name": "Python 3.7.3 64-bit ('base': conda)"
  }
 },
 "nbformat": 4,
 "nbformat_minor": 2,
 "cells": [
  {
   "cell_type": "markdown",
   "metadata": {},
   "source": [
    "## SQL SHELL"
   ]
  },
  {
   "cell_type": "markdown",
   "metadata": {},
   "source": [
    "création d'une DATABASE -> `CREATE DATABASE Nom_de_la_base`"
   ]
  },
  {
   "cell_type": "markdown",
   "metadata": {},
   "source": [
    "**Fonctions spéciales**  \n",
    "`\\?` pour afficher les fonctions spéciales PSQL  \n",
    "`\\l` liste toutes les databases  \n",
    "`\\dt` affiche les tables d'une base de données  \n",
    "`\\du` affiche les noms d'utilisateurs avec leurs pouvoir  "
   ]
  },
  {
   "cell_type": "markdown",
   "metadata": {},
   "source": [
    "**Changer de base de données** -> on deconnecte et on se connecte à nouveau avec la base de notre choix \n"
   ]
  },
  {
   "cell_type": "markdown",
   "metadata": {},
   "source": [
    "** Création d'utilisateurs**  \n",
    "`CREATE ROLE nom_utilisateur WITH CREATEDB CREATEROLE SUPERUSER LOGIN PASSWORD '*******';`\n"
   ]
  },
  {
   "cell_type": "markdown",
   "metadata": {},
   "source": [
    "** Ajouter des permissions à une table** `\\dp`   \n",
    "`GRANT SELECT ON ma_table TO nom_ulissateur;`  \n",
    "`GRANT SELECT, INSERT, UPDATE ON ma_table TO nom_ulissateur;`  \n",
    "`GRANT ALL PRIVILEGES ON ma_table TO nom_ulissateur;`\n"
   ]
  },
  {
   "cell_type": "markdown",
   "metadata": {},
   "source": [
    "**Retirer des permissions d'une table pour un utilisateur**  \n",
    "`REVOKE SELECT ON ma_table FROM non_utilisateur;`  \n",
    "`REVOKE ALL PRIVILEGES ON ma_table FROM non_utilisateur`  \n",
    " "
   ]
  },
  {
   "cell_type": "markdown",
   "metadata": {},
   "source": [
    "**Superusers**  \n",
    "`CREAT ROLE nom_utilisateur WITH SUPERUSER;`  \n"
   ]
  },
  {
   "cell_type": "markdown",
   "metadata": {},
   "source": [
    "**Supprimer un utilisateur, une table ou une base de données**  \n",
    "`DROP ROLE mon_utilisateur;`  \n",
    "`DROP TABLE ma_table;`   \n",
    "`DROP DATABASE ma_data_base;`  \n"
   ]
  },
  {
   "cell_type": "markdown",
   "metadata": {},
   "source": [
    "## Connexion avec Psycopg2"
   ]
  },
  {
   "cell_type": "code",
   "execution_count": 1,
   "metadata": {},
   "outputs": [],
   "source": [
    "import psycopg2"
   ]
  },
  {
   "cell_type": "code",
   "execution_count": 2,
   "metadata": {},
   "outputs": [],
   "source": [
    "connexion = psycopg2.connect(dbname = 'postgres', user = 'postgres', password = 'smail88@', port = 5432)\n",
    "curseur = connexion.cursor()\n",
    "connexion.close()"
   ]
  },
  {
   "cell_type": "code",
   "execution_count": 3,
   "metadata": {
    "tags": []
   },
   "outputs": [
    {
     "output_type": "stream",
     "name": "stdout",
     "text": "<cursor object at 0x000002A72F17A208; closed: 0>\n"
    }
   ],
   "source": [
    "con = psycopg2.connect(dbname = 'bank_accounts', user = 'smail', password = 'smail88@', port = 5432)\n",
    "cur = con.cursor()\n",
    "print(cur)\n",
    "con.close()"
   ]
  },
  {
   "cell_type": "markdown",
   "metadata": {},
   "source": [
    "## créer une table "
   ]
  },
  {
   "cell_type": "code",
   "execution_count": 4,
   "metadata": {},
   "outputs": [],
   "source": [
    "\n",
    "con = psycopg2.connect(dbname = 'bank_accounts', user = 'smail', password = 'smail88@')\n",
    "cur = con.cursor()\n",
    "cur.execute('create table notes1 (id integer primary key, body text,title text);')\n",
    "con.close()"
   ]
  },
  {
   "cell_type": "markdown",
   "metadata": {},
   "source": [
    "## Transactions en SQL "
   ]
  },
  {
   "cell_type": "code",
   "execution_count": 5,
   "metadata": {},
   "outputs": [],
   "source": [
    "\n",
    "# commit()\n",
    "con = psycopg2.connect(dbname = 'bank_accounts', user = 'smail', password = 'smail88@')\n",
    "cur = con.cursor()\n",
    "cur.execute('create table notes1(id integer primary key, body text,title text);')\n",
    "con.commit()\n",
    "con.close()"
   ]
  },
  {
   "cell_type": "markdown",
   "metadata": {},
   "source": [
    "## Commit automatique "
   ]
  },
  {
   "cell_type": "code",
   "execution_count": 6,
   "metadata": {},
   "outputs": [],
   "source": [
    "con = psycopg2.connect(dbname = \"bank_accounts\", user = 'smail', password = 'smail88@')\n",
    "con.autocommit = True \n",
    "cur = con.cursor()\n",
    "cur.execute('create table notes2 (id integer primary key, name text, title text);')\n",
    "con.close()"
   ]
  },
  {
   "cell_type": "markdown",
   "metadata": {},
   "source": [
    "## Exécuter des requêtes "
   ]
  },
  {
   "cell_type": "code",
   "execution_count": 8,
   "metadata": {
    "tags": []
   },
   "outputs": [
    {
     "output_type": "stream",
     "name": "stdout",
     "text": "[(1, 'Ceci est notre première note', 'note_1')]\n"
    }
   ],
   "source": [
    "con = psycopg2.connect(dbname='bank_accounts', user = 'smail', password = 'smail88@')\n",
    "cur = con.cursor()\n",
    "cur.execute(\"insert into notes values (1, 'Ceci est notre première note', 'note_1');\")\n",
    "cur.execute('select * from notes;')\n",
    "rows = cur.fetchall()\n",
    "print(rows)\n",
    "con.commit()"
   ]
  },
  {
   "cell_type": "code",
   "execution_count": 9,
   "metadata": {},
   "outputs": [],
   "source": [
    "con.close()"
   ]
  },
  {
   "cell_type": "markdown",
   "metadata": {},
   "source": [
    "## Création d'une base de données "
   ]
  },
  {
   "cell_type": "markdown",
   "metadata": {},
   "source": [
    "`CREATE DATABASE nom_database OWNER nom_utilisateur;`"
   ]
  },
  {
   "cell_type": "code",
   "execution_count": 11,
   "metadata": {},
   "outputs": [],
   "source": [
    "con = psycopg2.connect(dbname = 'bank_accounts', user = 'smail', password = 'smail88@')\n",
    "con.autocommit = True\n",
    "cur = con.cursor()\n",
    "cur.execute('create database income owner smail;')\n",
    "con.close()"
   ]
  },
  {
   "cell_type": "markdown",
   "metadata": {},
   "source": [
    "## Supprimer une base de donnée"
   ]
  },
  {
   "cell_type": "code",
   "execution_count": 15,
   "metadata": {},
   "outputs": [],
   "source": [
    "con = psycopg2.connect(dbname = 'bank_accounts', user = 'smail', password ='smail88@' )\n",
    "con.autocommit = True \n",
    "cur = con.cursor()\n",
    "cur.execute('drop database income;')\n",
    "con.close()\n"
   ]
  }
 ]
}